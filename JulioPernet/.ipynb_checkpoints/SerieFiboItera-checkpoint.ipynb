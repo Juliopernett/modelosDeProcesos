{
 "cells": [
  {
   "cell_type": "raw",
   "metadata": {},
   "source": [
    "Julio Pernet Retamozo"
   ]
  },
  {
   "cell_type": "code",
   "execution_count": 1,
   "metadata": {},
   "outputs": [
    {
     "name": "stdout",
     "output_type": "stream",
     "text": [
      "Ingresa iteraciones5\n",
      "5\n"
     ]
    }
   ],
   "source": [
    "#NoRecursivo\n",
    "num1 = 0\n",
    "num2 = 1 \n",
    "it = int(input(\"Ingresa iteraciones\"))\n",
    "for i  in range (it):\n",
    "    aux = num1 + num2\n",
    "    num1 = num2\n",
    "    num2 = aux\n",
    "print (num1)\n"
   ]
  },
  {
   "cell_type": "code",
   "execution_count": 8,
   "metadata": {},
   "outputs": [
    {
     "name": "stdout",
     "output_type": "stream",
     "text": [
      "Ingresa iteraciones10\n"
     ]
    },
    {
     "data": {
      "text/plain": [
       "55"
      ]
     },
     "execution_count": 8,
     "metadata": {},
     "output_type": "execute_result"
    }
   ],
   "source": []
  },
  {
   "cell_type": "code",
   "execution_count": 2,
   "metadata": {},
   "outputs": [
    {
     "name": "stdout",
     "output_type": "stream",
     "text": [
      "Ingresa iteraciones10\n"
     ]
    },
    {
     "data": {
      "text/plain": [
       "55"
      ]
     },
     "execution_count": 2,
     "metadata": {},
     "output_type": "execute_result"
    }
   ],
   "source": [
    "#Recursivo\n",
    "def Frcsvo (it):\n",
    "    if it<2:\n",
    "        return it\n",
    "    else:\n",
    "        return Frcsvo(it-2) + Frcsvo (it-1)\n",
    "it = int(input(\"Ingresa iteraciones\"))\n",
    "Frcsvo(it)"
   ]
  },
  {
   "cell_type": "code",
   "execution_count": null,
   "metadata": {},
   "outputs": [],
   "source": []
  }
 ],
 "metadata": {
  "kernelspec": {
   "display_name": "Python 3",
   "language": "python",
   "name": "python3"
  },
  "language_info": {
   "codemirror_mode": {
    "name": "ipython",
    "version": 3
   },
   "file_extension": ".py",
   "mimetype": "text/x-python",
   "name": "python",
   "nbconvert_exporter": "python",
   "pygments_lexer": "ipython3",
   "version": "3.7.1"
  }
 },
 "nbformat": 4,
 "nbformat_minor": 2
}
