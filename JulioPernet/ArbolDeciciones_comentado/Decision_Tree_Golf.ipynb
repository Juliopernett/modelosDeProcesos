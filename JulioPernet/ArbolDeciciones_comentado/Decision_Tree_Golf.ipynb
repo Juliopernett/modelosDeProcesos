{
 "cells": [
  {
   "cell_type": "code",
   "execution_count": 1,
   "metadata": {},
   "outputs": [],
   "source": [
    "# administrador de paquetes (requerimientos que se deben instalar para la compilación del programa)\n",
    "\n",
    "#pip install graphviz\n",
    "#pip install pydotplus\n",
    "#pip install decision-tree-id3"
   ]
  },
  {
   "cell_type": "code",
   "execution_count": 6,
   "metadata": {},
   "outputs": [],
   "source": [
    "#libreria para manipular datos, ya sea tabla numericas o series temporales\n",
    "import pandas as pd"
   ]
  },
  {
   "cell_type": "code",
   "execution_count": 7,
   "metadata": {},
   "outputs": [],
   "source": [
    "# libreria para dibujar graficamente los resultados en 2D\n",
    "import matplotlib.pyplot as plt"
   ]
  },
  {
   "cell_type": "code",
   "execution_count": 8,
   "metadata": {},
   "outputs": [],
   "source": [
    "#librería para visualizar de datos estadísticos\n",
    "import seaborn as sns"
   ]
  },
  {
   "cell_type": "code",
   "execution_count": 9,
   "metadata": {},
   "outputs": [],
   "source": [
    "#importando el componente tree de de libreria sklearn\n",
    "from sklearn import tree #For our Decision Tree"
   ]
  },
  {
   "cell_type": "code",
   "execution_count": 10,
   "metadata": {},
   "outputs": [],
   "source": [
    "import pydotplus "
   ]
  },
  {
   "cell_type": "code",
   "execution_count": 11,
   "metadata": {},
   "outputs": [],
   "source": [
    "from IPython.display import Image  # To Display a image of our graph"
   ]
  },
  {
   "cell_type": "code",
   "execution_count": 21,
   "metadata": {},
   "outputs": [],
   "source": [
    "# carga el archivo golf_dataset_Binary.csv en la variable golf leida mediante la variable pd de pandas\n",
    "golf = pd.read_csv('golf_dataset_Binary.csv')"
   ]
  },
  {
   "cell_type": "code",
   "execution_count": 22,
   "metadata": {},
   "outputs": [],
   "source": [
    "#!pip install pandas"
   ]
  },
  {
   "cell_type": "code",
   "execution_count": 23,
   "metadata": {},
   "outputs": [
    {
     "data": {
      "text/html": [
       "<div>\n",
       "<style scoped>\n",
       "    .dataframe tbody tr th:only-of-type {\n",
       "        vertical-align: middle;\n",
       "    }\n",
       "\n",
       "    .dataframe tbody tr th {\n",
       "        vertical-align: top;\n",
       "    }\n",
       "\n",
       "    .dataframe thead th {\n",
       "        text-align: right;\n",
       "    }\n",
       "</style>\n",
       "<table border=\"1\" class=\"dataframe\">\n",
       "  <thead>\n",
       "    <tr style=\"text-align: right;\">\n",
       "      <th></th>\n",
       "      <th>Outlook</th>\n",
       "      <th>Temperature</th>\n",
       "      <th>Humidity</th>\n",
       "      <th>Windy</th>\n",
       "      <th>Play</th>\n",
       "    </tr>\n",
       "  </thead>\n",
       "  <tbody>\n",
       "    <tr>\n",
       "      <td>0</td>\n",
       "      <td>Sunny</td>\n",
       "      <td>Hot</td>\n",
       "      <td>High</td>\n",
       "      <td>False</td>\n",
       "      <td>no</td>\n",
       "    </tr>\n",
       "    <tr>\n",
       "      <td>1</td>\n",
       "      <td>Sunny</td>\n",
       "      <td>Hot</td>\n",
       "      <td>High</td>\n",
       "      <td>True</td>\n",
       "      <td>no</td>\n",
       "    </tr>\n",
       "    <tr>\n",
       "      <td>2</td>\n",
       "      <td>Rain</td>\n",
       "      <td>Hot</td>\n",
       "      <td>High</td>\n",
       "      <td>False</td>\n",
       "      <td>no</td>\n",
       "    </tr>\n",
       "    <tr>\n",
       "      <td>3</td>\n",
       "      <td>Rain</td>\n",
       "      <td>Cool</td>\n",
       "      <td>Normal</td>\n",
       "      <td>False</td>\n",
       "      <td>yes</td>\n",
       "    </tr>\n",
       "    <tr>\n",
       "      <td>4</td>\n",
       "      <td>Rain</td>\n",
       "      <td>Cool</td>\n",
       "      <td>Normal</td>\n",
       "      <td>True</td>\n",
       "      <td>no</td>\n",
       "    </tr>\n",
       "  </tbody>\n",
       "</table>\n",
       "</div>"
      ],
      "text/plain": [
       "  Outlook Temperature Humidity  Windy Play\n",
       "0   Sunny         Hot     High  False   no\n",
       "1   Sunny         Hot     High   True   no\n",
       "2    Rain         Hot     High  False   no\n",
       "3    Rain        Cool   Normal  False  yes\n",
       "4    Rain        Cool   Normal   True   no"
      ]
     },
     "execution_count": 23,
     "metadata": {},
     "output_type": "execute_result"
    }
   ],
   "source": [
    "#mostrar los primeros cinco campos de la variable golf (información cargada en memoria previamente) en la cabecera\n",
    "golf.head(5)"
   ]
  },
  {
   "cell_type": "code",
   "execution_count": 24,
   "metadata": {},
   "outputs": [],
   "source": [
    "#factorize makes a categorical attribute to a numerical represetation\n",
    "\n",
    "# se obtiene una representación numerica de la matríz. Donde, le da un peso a cada grupo de datos. \n",
    "# Para este caso en la columna Outlook,  le asigna a Sunny el valor de cero (0) y a Rain el valor de uno (1).\n",
    "# Así con los datos de las siguientes columnas.\n",
    "golf['Outlook'],_ = pd.factorize(golf['Outlook'])\n",
    "golf['Temperature'],_ = pd.factorize(golf['Temperature'])\n",
    "golf['Humidity'],_ = pd.factorize(golf['Humidity'])\n",
    "golf['Windy'],_ = pd.factorize(golf['Windy'])\n",
    "#golf['Play'],_ = pd.factorize(golf['Play'])"
   ]
  },
  {
   "cell_type": "code",
   "execution_count": 25,
   "metadata": {
    "scrolled": true
   },
   "outputs": [
    {
     "name": "stdout",
     "output_type": "stream",
     "text": [
      "   Outlook  Temperature  Humidity  Windy Play\n",
      "0        0            0         0      0   no\n",
      "1        0            0         0      1   no\n",
      "2        1            0         0      0   no\n",
      "3        1            1         1      0  yes\n",
      "4        1            1         1      1   no\n",
      "5        0            0         0      0   no\n",
      "6        0            1         1      0  yes\n",
      "7        1            0         1      0  yes\n",
      "8        0            1         1      1  yes\n",
      "9        1            0         1      1   no\n"
     ]
    }
   ],
   "source": [
    "# imprie la matriz\n",
    "print(golf)"
   ]
  },
  {
   "cell_type": "code",
   "execution_count": 26,
   "metadata": {},
   "outputs": [],
   "source": [
    "#one hot the data\n",
    "# se accede al grupo de valores mediante las etiquetas seleccionadas\n",
    "one_hot_data = golf.loc[:,('Outlook','Temperature','Humidity','Windy')]"
   ]
  },
  {
   "cell_type": "code",
   "execution_count": 27,
   "metadata": {},
   "outputs": [],
   "source": [
    "# train the decision tree\n",
    "#dtree = tree.DecisionTreeClassifier(criterion='entropy', max_depth=3, random_state=0)\n",
    "\n",
    "# SE CONSTRUYE EL ARBOL CON LOS DATOS DE ENTRENAMIENTO UTILIZANDO EL CRITERIO DE ENTROPIA\n",
    "clf = tree.DecisionTreeClassifier(criterion='entropy')\n",
    "\n",
    "#ENTRENAR AL ARBOL\n",
    "clf_train = clf.fit(one_hot_data, golf['Play'])"
   ]
  },
  {
   "cell_type": "code",
   "execution_count": 28,
   "metadata": {},
   "outputs": [
    {
     "name": "stdout",
     "output_type": "stream",
     "text": [
      "Index(['Outlook', 'Temperature', 'Humidity', 'Windy', 'Play'], dtype='object')\n"
     ]
    }
   ],
   "source": [
    "# OBTIENER NOMBRE DE LAS COLUMNAS DEL DATASET\n",
    "feature_names = golf.columns\n",
    "print(feature_names)"
   ]
  },
  {
   "cell_type": "code",
   "execution_count": null,
   "metadata": {},
   "outputs": [],
   "source": [
    "# HACER LA CONFIGURACIÓN PARA GENERAR EL GRAFICO\n",
    "dot_data = tree.export_graphviz(clf_train, out_file=None, feature_names=list(one_hot_data.columns.values),\n",
    "                                class_names=['Not_Play', 'Play'], rounded = True, filled = True)\n",
    "#IMPRIMIR ARBOL\n",
    "print(dot_data)\n",
    "graph = pydotplus.graph_from_dot_data(dot_data)\n",
    "Image(graph.create_png())"
   ]
  },
  {
   "cell_type": "code",
   "execution_count": null,
   "metadata": {},
   "outputs": [],
   "source": []
  }
 ],
 "metadata": {
  "kernelspec": {
   "display_name": "Python 3",
   "language": "python",
   "name": "python3"
  },
  "language_info": {
   "codemirror_mode": {
    "name": "ipython",
    "version": 3
   },
   "file_extension": ".py",
   "mimetype": "text/x-python",
   "name": "python",
   "nbconvert_exporter": "python",
   "pygments_lexer": "ipython3",
   "version": "3.7.1"
  }
 },
 "nbformat": 4,
 "nbformat_minor": 2
}
