{
 "cells": [
  {
   "cell_type": "markdown",
   "metadata": {},
   "source": [
    "# Julio Pernett Retamozo / Leandro Gutierrez"
   ]
  },
  {
   "cell_type": "code",
   "execution_count": 14,
   "metadata": {},
   "outputs": [],
   "source": [
    "#Importación de paquetes y librerias a  usar\n",
    "import speech_recognition as sr\n",
    "import IPython\n",
    "import pymysql\n",
    "from os import path\n",
    "from pydub import AudioSegment\n",
    "from os import remove\n",
    "import os\n",
    "os.environ[\"PATH\"] += os.pathsep + '/usr/local/bin'"
   ]
  },
  {
   "cell_type": "code",
   "execution_count": 15,
   "metadata": {},
   "outputs": [
    {
     "name": "stdout",
     "output_type": "stream",
     "text": [
      "Extrayendo texto del audio, espere un momento por favor...\n",
      "El audio procesado es:\n",
      "Este es un audio de prueba de la clase de modelos de procesos de la Universidad del Magdalena\n"
     ]
    }
   ],
   "source": [
    "r = sr.Recognizer()\n",
    "\n",
    "# convert wav to mp3\n",
    "sound = AudioSegment.from_mp3(\"AUDIOMP3.mp3\")\n",
    "sound.export(\"convertido.wav\", format=\"wav\")\n",
    "\n",
    "audio = 'convertido.wav';\n",
    "\n",
    "with sr.AudioFile(audio) as source:\n",
    "   print('Extrayendo texto del audio, espere un momento por favor...')\n",
    "   audio = r.record(source)\n",
    "try:\n",
    "   text = r.recognize_google(audio, language=\"es-CO\")\n",
    "   print('El audio procesado es:')\n",
    "   print (text)\n",
    "\n",
    "except Exception as e:\n",
    "   print (e)\n",
    "\n",
    "# INSERCION EN LA BASE DE DATOS \n",
    "#Abre conexion con la base de datos\n",
    "db = pymysql.connect(\"localhost\",\"root\",\"\",\"audio\")\n",
    "##################################################\n",
    "\n",
    "# prepare a cursor object using cursor() method\n",
    "cursor = db.cursor()\n",
    "\n",
    "# Prepare SQL query to INSERT a record into the database.\n",
    "sql = \"INSERT INTO audioentext(idAudioenText, Texto) \\\n",
    "   VALUES (NULL,'{0}')\".format(text)\n",
    "try:\n",
    "   # Execute the SQL command\n",
    "   cursor.execute(sql)\n",
    "   # Commit your changes in the database\n",
    "   db.commit()\n",
    "except:\n",
    "   # Rollback in case there is any error\n",
    "   db.rollback()\n",
    "\n",
    "# desconectar del servidor\n",
    "db.close()\n"
   ]
  },
  {
   "cell_type": "code",
   "execution_count": null,
   "metadata": {},
   "outputs": [],
   "source": []
  },
  {
   "cell_type": "code",
   "execution_count": null,
   "metadata": {},
   "outputs": [],
   "source": []
  }
 ],
 "metadata": {
  "kernelspec": {
   "display_name": "Python 3",
   "language": "python",
   "name": "python3"
  },
  "language_info": {
   "codemirror_mode": {
    "name": "ipython",
    "version": 3
   },
   "file_extension": ".py",
   "mimetype": "text/x-python",
   "name": "python",
   "nbconvert_exporter": "python",
   "pygments_lexer": "ipython3",
   "version": "3.7.1"
  }
 },
 "nbformat": 4,
 "nbformat_minor": 2
}
