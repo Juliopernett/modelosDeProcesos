{
 "cells": [
  {
   "cell_type": "code",
   "execution_count": 1,
   "metadata": {},
   "outputs": [
    {
     "name": "stdout",
     "output_type": "stream",
     "text": [
      "Ingresa iteraciones6\n",
      "8\n"
     ]
    }
   ],
   "source": [
    "# Autor : Jose Alfonso Pérez\n",
    "# No Recursivo\n",
    "n1 = 0\n",
    "n2 = 1 \n",
    "it = int(input(\"Ingresa numero de  iteraciones\"))\n",
    "for i  in range (it):\n",
    "    aux = n1 + n2\n",
    "    n1 = n2\n",
    "    n2 = aux\n",
    "print (n1)"
   ]
  },
  {
   "cell_type": "code",
   "execution_count": 2,
   "metadata": {},
   "outputs": [
    {
     "name": "stdout",
     "output_type": "stream",
     "text": [
      "Ingresa iteraciones5\n"
     ]
    },
    {
     "data": {
      "text/plain": [
       "5"
      ]
     },
     "execution_count": 2,
     "metadata": {},
     "output_type": "execute_result"
    }
   ],
   "source": [
    "# Autor : Jose Alfonso Pérez\n",
    "# Recursivo\n",
    "def Frcsvo (it):\n",
    "    if it<2:\n",
    "        return it\n",
    "    else:\n",
    "        return Frcsvo(it-2) + Frcsvo (it-1)\n",
    "it = int(input(\"Ingresa numero de iteraciones\"))\n",
    "Frcsvo(it)"
   ]
  },
  {
   "cell_type": "code",
   "execution_count": null,
   "metadata": {},
   "outputs": [],
   "source": []
  }
 ],
 "metadata": {
  "kernelspec": {
   "display_name": "Python 3",
   "language": "python",
   "name": "python3"
  },
  "language_info": {
   "codemirror_mode": {
    "name": "ipython",
    "version": 3
   },
   "file_extension": ".py",
   "mimetype": "text/x-python",
   "name": "python",
   "nbconvert_exporter": "python",
   "pygments_lexer": "ipython3",
   "version": "3.7.1"
  }
 },
 "nbformat": 4,
 "nbformat_minor": 2
}
