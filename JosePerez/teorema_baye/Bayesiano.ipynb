{
 "cells": [
  {
   "cell_type": "code",
   "execution_count": 13,
   "metadata": {},
   "outputs": [],
   "source": [
    "import pandas as pd\n",
    "import unittest"
   ]
  },
  {
   "cell_type": "code",
   "execution_count": 2,
   "metadata": {
    "scrolled": true
   },
   "outputs": [
    {
     "data": {
      "text/html": [
       "<div>\n",
       "<style scoped>\n",
       "    .dataframe tbody tr th:only-of-type {\n",
       "        vertical-align: middle;\n",
       "    }\n",
       "\n",
       "    .dataframe tbody tr th {\n",
       "        vertical-align: top;\n",
       "    }\n",
       "\n",
       "    .dataframe thead th {\n",
       "        text-align: right;\n",
       "    }\n",
       "</style>\n",
       "<table border=\"1\" class=\"dataframe\">\n",
       "  <thead>\n",
       "    <tr style=\"text-align: right;\">\n",
       "      <th></th>\n",
       "      <th>Tipo de Ocupación</th>\n",
       "      <th>Mayor a 30</th>\n",
       "      <th>Volumen de Compras</th>\n",
       "      <th>Mayoria de elementos comprados</th>\n",
       "      <th>Campaña</th>\n",
       "    </tr>\n",
       "  </thead>\n",
       "  <tbody>\n",
       "    <tr>\n",
       "      <th>0</th>\n",
       "      <td>Empleado</td>\n",
       "      <td>Si</td>\n",
       "      <td>Alto</td>\n",
       "      <td>Ferretería</td>\n",
       "      <td>Salud</td>\n",
       "    </tr>\n",
       "    <tr>\n",
       "      <th>1</th>\n",
       "      <td>Independiente</td>\n",
       "      <td>Si</td>\n",
       "      <td>Medio</td>\n",
       "      <td>Vesturario</td>\n",
       "      <td>Hogar</td>\n",
       "    </tr>\n",
       "    <tr>\n",
       "      <th>2</th>\n",
       "      <td>Independiente</td>\n",
       "      <td>No</td>\n",
       "      <td>Alto</td>\n",
       "      <td>Vesturario</td>\n",
       "      <td>Viajes</td>\n",
       "    </tr>\n",
       "    <tr>\n",
       "      <th>3</th>\n",
       "      <td>Independiente</td>\n",
       "      <td>Si</td>\n",
       "      <td>Alto</td>\n",
       "      <td>Mercado</td>\n",
       "      <td>Hogar</td>\n",
       "    </tr>\n",
       "    <tr>\n",
       "      <th>4</th>\n",
       "      <td>Empleado</td>\n",
       "      <td>Si</td>\n",
       "      <td>Bajo</td>\n",
       "      <td>Mercado</td>\n",
       "      <td>Viajes</td>\n",
       "    </tr>\n",
       "    <tr>\n",
       "      <th>5</th>\n",
       "      <td>Empleado</td>\n",
       "      <td>Si</td>\n",
       "      <td>Medio</td>\n",
       "      <td>Vesturario</td>\n",
       "      <td>Salud</td>\n",
       "    </tr>\n",
       "    <tr>\n",
       "      <th>6</th>\n",
       "      <td>Empleado</td>\n",
       "      <td>No</td>\n",
       "      <td>Alto</td>\n",
       "      <td>Vesturario</td>\n",
       "      <td>Viajes</td>\n",
       "    </tr>\n",
       "  </tbody>\n",
       "</table>\n",
       "</div>"
      ],
      "text/plain": [
       "  Tipo de Ocupación Mayor a 30 Volumen de Compras  \\\n",
       "0          Empleado         Si               Alto   \n",
       "1     Independiente         Si              Medio   \n",
       "2     Independiente         No               Alto   \n",
       "3     Independiente         Si               Alto   \n",
       "4          Empleado         Si               Bajo   \n",
       "5          Empleado         Si              Medio   \n",
       "6          Empleado         No               Alto   \n",
       "\n",
       "  Mayoria de elementos comprados Campaña  \n",
       "0                     Ferretería   Salud  \n",
       "1                     Vesturario   Hogar  \n",
       "2                     Vesturario  Viajes  \n",
       "3                        Mercado   Hogar  \n",
       "4                        Mercado  Viajes  \n",
       "5                     Vesturario   Salud  \n",
       "6                     Vesturario  Viajes  "
      ]
     },
     "execution_count": 2,
     "metadata": {},
     "output_type": "execute_result"
    }
   ],
   "source": [
    "Datos = pd.read_csv('Datos_balegria.csv')\n",
    "Datos.head(7)"
   ]
  },
  {
   "cell_type": "code",
   "execution_count": 8,
   "metadata": {},
   "outputs": [],
   "source": [
    "features_train = Datos.iloc[0:7,0:4]\n",
    "target_train = Datos.iloc[0:7,4]\n",
    "#print(label)"
   ]
  },
  {
   "cell_type": "code",
   "execution_count": 9,
   "metadata": {},
   "outputs": [
    {
     "name": "stdout",
     "output_type": "stream",
     "text": [
      "[(0, 1, 0, 0), (1, 1, 2, 2), (1, 0, 0, 2), (1, 1, 0, 1), (0, 1, 1, 1), (0, 1, 2, 2), (0, 0, 0, 2)]\n",
      "[1 0 2 0 2 1 2]\n"
     ]
    }
   ],
   "source": [
    "#Import  LabelEncoder\n",
    "from sklearn import preprocessing\n",
    "le = preprocessing.LabelEncoder()\n",
    "f0=le.fit_transform(features_train.iloc[0:7,0])\n",
    "f1=le.fit_transform(features_train.iloc[0:7,1])\n",
    "f2=le.fit_transform(features_train.iloc[0:7,2])\n",
    "f3=le.fit_transform(features_train.iloc[0:7,3])\n",
    "label=le.fit_transform(target_train)\n",
    "features=list(zip(f0,f1,f2,f3))\n",
    "print(features)\n",
    "print(label)\n"
   ]
  },
  {
   "cell_type": "code",
   "execution_count": 12,
   "metadata": {},
   "outputs": [
    {
     "ename": "ModuleNotFoundError",
     "evalue": "No module named 'sklear'",
     "output_type": "error",
     "traceback": [
      "\u001b[1;31m---------------------------------------------------------------------------\u001b[0m",
      "\u001b[1;31mModuleNotFoundError\u001b[0m                       Traceback (most recent call last)",
      "\u001b[1;32m<ipython-input-12-e652b2262c00>\u001b[0m in \u001b[0;36m<module>\u001b[1;34m\u001b[0m\n\u001b[1;32m----> 1\u001b[1;33m \u001b[1;32mfrom\u001b[0m \u001b[0msklear\u001b[0m\u001b[1;33m.\u001b[0m\u001b[0mnaive_bayes\u001b[0m \u001b[1;32mimport\u001b[0m \u001b[0mGaussianNB\u001b[0m\u001b[1;33m\u001b[0m\u001b[1;33m\u001b[0m\u001b[0m\n\u001b[0m\u001b[0;32m      2\u001b[0m \u001b[0mmodel1\u001b[0m \u001b[1;33m=\u001b[0m \u001b[0mGaussianNB\u001b[0m\u001b[1;33m(\u001b[0m\u001b[1;33m)\u001b[0m\u001b[1;33m\u001b[0m\u001b[1;33m\u001b[0m\u001b[0m\n\u001b[0;32m      3\u001b[0m \u001b[0mmodel1\u001b[0m\u001b[1;33m.\u001b[0m\u001b[0mfit\u001b[0m\u001b[1;33m(\u001b[0m\u001b[0mfeatures\u001b[0m\u001b[1;33m,\u001b[0m\u001b[0mlabel\u001b[0m\u001b[1;33m)\u001b[0m\u001b[1;33m\u001b[0m\u001b[1;33m\u001b[0m\u001b[0m\n\u001b[0;32m      4\u001b[0m \u001b[1;31m#Predicted = model.pedrict([[1,1,0,2]])\u001b[0m\u001b[1;33m\u001b[0m\u001b[1;33m\u001b[0m\u001b[1;33m\u001b[0m\u001b[0m\n\u001b[0;32m      5\u001b[0m \u001b[1;31m#Predicted = model.pedrict([[0,1,2,1]])\u001b[0m\u001b[1;33m\u001b[0m\u001b[1;33m\u001b[0m\u001b[1;33m\u001b[0m\u001b[0m\n",
      "\u001b[1;31mModuleNotFoundError\u001b[0m: No module named 'sklear'"
     ]
    }
   ],
   "source": [
    "#from sklear.naive_bayes import GaussianNB\n",
    "#model1 = GaussianNB()\n",
    "#model1.fit(features,label)\n",
    "#Predicted = model.pedrict([[1,1,0,2]])\n",
    "#Predicted = model.pedrict([[0,1,2,1]])\n",
    "#Predicted = model1.predict([[0,0,2,1]])\n",
    "#print(le.inverse_transform(Predicted))"
   ]
  },
  {
   "cell_type": "code",
   "execution_count": 14,
   "metadata": {},
   "outputs": [
    {
     "ename": "SyntaxError",
     "evalue": "invalid syntax (<ipython-input-14-e462b7aca6c4>, line 16)",
     "output_type": "error",
     "traceback": [
      "\u001b[1;36m  File \u001b[1;32m\"<ipython-input-14-e462b7aca6c4>\"\u001b[1;36m, line \u001b[1;32m16\u001b[0m\n\u001b[1;33m    unittest.main(argv=['ignored', '-v'], exit=False).\u001b[0m\n\u001b[1;37m                                                      ^\u001b[0m\n\u001b[1;31mSyntaxError\u001b[0m\u001b[1;31m:\u001b[0m invalid syntax\n"
     ]
    }
   ],
   "source": [
    "from sklearn.naive_bayes import GaussianNB\n",
    "def balle(num1,num2,num3,num4):\n",
    "    model1 = GaussianNB()\n",
    "    model1.fit(features,label)\n",
    "    Predicted = model1.predict([[num1,num2,num3,num4]])\n",
    "    return Predicted\n",
    "    \n",
    "\n",
    "import unittest\n",
    "class TestMultiply(unittest.TestCase):\n",
    "    # Create the unit test\n",
    "    def test_(self):\n",
    "        # Test if 4 equals the output of multiply(2,2)\n",
    "        self.assertEqual(2, balle(0,0,0,2))\n",
    "\n",
    "unittest.main(argv=['ignored', '-v'], exit=False)."
   ]
  },
  {
   "cell_type": "code",
   "execution_count": null,
   "metadata": {},
   "outputs": [],
   "source": []
  }
 ],
 "metadata": {
  "kernelspec": {
   "display_name": "Python 3",
   "language": "python",
   "name": "python3"
  },
  "language_info": {
   "codemirror_mode": {
    "name": "ipython",
    "version": 3
   },
   "file_extension": ".py",
   "mimetype": "text/x-python",
   "name": "python",
   "nbconvert_exporter": "python",
   "pygments_lexer": "ipython3",
   "version": "3.7.1"
  }
 },
 "nbformat": 4,
 "nbformat_minor": 2
}
